{
 "cells": [
  {
   "cell_type": "markdown",
   "metadata": {},
   "source": [
    "# Linear Regression using ordinary least square"
   ]
  },
  {
   "cell_type": "markdown",
   "metadata": {},
   "source": [
    "### Ordinary Least Square : When you have more than one variable then you can use this method to minimize the error of sum of residual square "
   ]
  },
  {
   "cell_type": "code",
   "execution_count": 1,
   "metadata": {},
   "outputs": [],
   "source": [
    "import numpy as np\n",
    "import pandas as pd\n",
    "import matplotlib.pyplot as plt\n",
    "%matplotlib inline"
   ]
  },
  {
   "cell_type": "code",
   "execution_count": 2,
   "metadata": {},
   "outputs": [
    {
     "data": {
      "text/plain": [
       "'y= b0 + b1*x\\nHere b0 is deciding parameter and b1 coefficient \\nwhich can be find out using the formula as,\\n\\nb1= (x-mean_x) * (y-mean_y)/(x - mean_x)**2\\nb0= mean_y - b1*x \\n\\n'"
      ]
     },
     "execution_count": 2,
     "metadata": {},
     "output_type": "execute_result"
    }
   ],
   "source": [
    "# Linear regression\n",
    "\n",
    "'''y= b0 + b1*x\n",
    "Here b0 is deciding parameter and b1 coefficient \n",
    "which can be find out using the formula as,\n",
    "\n",
    "b1= (x-mean_x) * (y-mean_y)/(x - mean_x)**2\n",
    "b0= mean_y - b1*x \n",
    "\n",
    "'''"
   ]
  },
  {
   "cell_type": "code",
   "execution_count": 3,
   "metadata": {},
   "outputs": [
    {
     "data": {
      "text/html": [
       "<div>\n",
       "<style scoped>\n",
       "    .dataframe tbody tr th:only-of-type {\n",
       "        vertical-align: middle;\n",
       "    }\n",
       "\n",
       "    .dataframe tbody tr th {\n",
       "        vertical-align: top;\n",
       "    }\n",
       "\n",
       "    .dataframe thead th {\n",
       "        text-align: right;\n",
       "    }\n",
       "</style>\n",
       "<table border=\"1\" class=\"dataframe\">\n",
       "  <thead>\n",
       "    <tr style=\"text-align: right;\">\n",
       "      <th></th>\n",
       "      <th>Height</th>\n",
       "      <th>Male</th>\n",
       "    </tr>\n",
       "  </thead>\n",
       "  <tbody>\n",
       "    <tr>\n",
       "      <th>0</th>\n",
       "      <td>NaN</td>\n",
       "      <td>NaN</td>\n",
       "    </tr>\n",
       "    <tr>\n",
       "      <th>1</th>\n",
       "      <td>(137 cm)</td>\n",
       "      <td>(28.5/34.9 kg)</td>\n",
       "    </tr>\n",
       "    <tr>\n",
       "      <th>2</th>\n",
       "      <td>4′ 7″</td>\n",
       "      <td>68/84 lb</td>\n",
       "    </tr>\n",
       "    <tr>\n",
       "      <th>3</th>\n",
       "      <td>NaN</td>\n",
       "      <td>NaN</td>\n",
       "    </tr>\n",
       "    <tr>\n",
       "      <th>4</th>\n",
       "      <td>(140 cm)</td>\n",
       "      <td>(30.8/38.1 kg)</td>\n",
       "    </tr>\n",
       "  </tbody>\n",
       "</table>\n",
       "</div>"
      ],
      "text/plain": [
       "     Height            Male\n",
       "0       NaN             NaN\n",
       "1  (137 cm)  (28.5/34.9 kg)\n",
       "2     4′ 7″        68/84 lb\n",
       "3       NaN             NaN\n",
       "4  (140 cm)  (30.8/38.1 kg)"
      ]
     },
     "execution_count": 3,
     "metadata": {},
     "output_type": "execute_result"
    }
   ],
   "source": [
    "#Data Loading ....\n",
    "df = pd.read_excel('height_wt.xlsx')\n",
    "df.head(5)"
   ]
  },
  {
   "cell_type": "code",
   "execution_count": 4,
   "metadata": {},
   "outputs": [],
   "source": [
    "#dropping na values\n",
    "df.dropna(inplace=True)"
   ]
  },
  {
   "cell_type": "code",
   "execution_count": 5,
   "metadata": {},
   "outputs": [],
   "source": [
    "# Taking height in only in cm\n",
    "\n",
    "df['Height']= df['Height'].apply(lambda x : int(x.split(' ')[0][1:5]) if 'cm' in x else 'NA')"
   ]
  },
  {
   "cell_type": "code",
   "execution_count": 6,
   "metadata": {},
   "outputs": [],
   "source": [
    "index_name = df[df['Height']=='NA'].index"
   ]
  },
  {
   "cell_type": "code",
   "execution_count": 7,
   "metadata": {},
   "outputs": [],
   "source": [
    "# dropping uneccessary rows\n",
    "df.drop(index_name , inplace= True)"
   ]
  },
  {
   "cell_type": "code",
   "execution_count": 8,
   "metadata": {},
   "outputs": [
    {
     "data": {
      "text/html": [
       "<div>\n",
       "<style scoped>\n",
       "    .dataframe tbody tr th:only-of-type {\n",
       "        vertical-align: middle;\n",
       "    }\n",
       "\n",
       "    .dataframe tbody tr th {\n",
       "        vertical-align: top;\n",
       "    }\n",
       "\n",
       "    .dataframe thead th {\n",
       "        text-align: right;\n",
       "    }\n",
       "</style>\n",
       "<table border=\"1\" class=\"dataframe\">\n",
       "  <thead>\n",
       "    <tr style=\"text-align: right;\">\n",
       "      <th></th>\n",
       "      <th>Height</th>\n",
       "      <th>Male</th>\n",
       "    </tr>\n",
       "  </thead>\n",
       "  <tbody>\n",
       "    <tr>\n",
       "      <th>1</th>\n",
       "      <td>137</td>\n",
       "      <td>(28.5/34.9 kg)</td>\n",
       "    </tr>\n",
       "    <tr>\n",
       "      <th>4</th>\n",
       "      <td>140</td>\n",
       "      <td>(30.8/38.1 kg)</td>\n",
       "    </tr>\n",
       "    <tr>\n",
       "      <th>7</th>\n",
       "      <td>142</td>\n",
       "      <td>(33.5/40.8 kg)</td>\n",
       "    </tr>\n",
       "    <tr>\n",
       "      <th>10</th>\n",
       "      <td>145</td>\n",
       "      <td>(35.8/43.9 kg)</td>\n",
       "    </tr>\n",
       "    <tr>\n",
       "      <th>13</th>\n",
       "      <td>147</td>\n",
       "      <td>(38.5/46.7 kg)</td>\n",
       "    </tr>\n",
       "  </tbody>\n",
       "</table>\n",
       "</div>"
      ],
      "text/plain": [
       "   Height            Male\n",
       "1     137  (28.5/34.9 kg)\n",
       "4     140  (30.8/38.1 kg)\n",
       "7     142  (33.5/40.8 kg)\n",
       "10    145  (35.8/43.9 kg)\n",
       "13    147  (38.5/46.7 kg)"
      ]
     },
     "execution_count": 8,
     "metadata": {},
     "output_type": "execute_result"
    }
   ],
   "source": [
    "df.head(5)"
   ]
  },
  {
   "cell_type": "code",
   "execution_count": 9,
   "metadata": {},
   "outputs": [],
   "source": [
    "# Taking only float values\n",
    "df['Male'] = df['Male'].apply(lambda x : float(x.split('/')[0][1:]))"
   ]
  },
  {
   "cell_type": "code",
   "execution_count": 10,
   "metadata": {},
   "outputs": [],
   "source": [
    "# renamming columns\n",
    "df.rename(columns = {'Height':'Height (cm)','Male': 'Male_Wt (kg)'},inplace=True)"
   ]
  },
  {
   "cell_type": "code",
   "execution_count": 11,
   "metadata": {},
   "outputs": [],
   "source": [
    "# ressetting index and dropping index column\n",
    "df.reset_index(inplace=True)\n",
    "df.drop('index',inplace=True,axis=1)"
   ]
  },
  {
   "cell_type": "code",
   "execution_count": 12,
   "metadata": {},
   "outputs": [],
   "source": [
    "X = df['Height (cm)'] #independent variable \n",
    "\n",
    "Y= df['Male_Wt (kg)'] #dependent variable"
   ]
  },
  {
   "cell_type": "code",
   "execution_count": 13,
   "metadata": {},
   "outputs": [
    {
     "name": "stdout",
     "output_type": "stream",
     "text": [
      "Slope m = 0.9689771104774377 ,Constant b = -104.44018419008023\n"
     ]
    },
    {
     "data": {
      "text/plain": [
       "' Male WT = -104.44 + 0.96 * Height'"
      ]
     },
     "execution_count": 13,
     "metadata": {},
     "output_type": "execute_result"
    }
   ],
   "source": [
    "mean_x = np.mean(X) # Mean of independent variable\n",
    "mean_y = np.mean(Y) # Mean of dependable variable\n",
    "def regression(X,Y):\n",
    "    num = 0\n",
    "    deno =0\n",
    "    \n",
    "    for i in range(len(X)):\n",
    "        num +=(X[i] - mean_x) * (Y[i]- mean_y) #aggregating values\n",
    "        deno += (X[i] - mean_x)**2 \n",
    "    b1 = num/deno      \n",
    "    b0 = mean_y - (b1 * mean_x) \n",
    "    \n",
    "    return b1,b0\n",
    "\n",
    "regression = regression(X,Y)\n",
    "m,b = regression\n",
    "print(f'Slope m = {m} ,Constant b = {b}')\n",
    "\n",
    "''' Male WT = -104.44 + 0.96 * Height'''"
   ]
  },
  {
   "cell_type": "code",
   "execution_count": 14,
   "metadata": {},
   "outputs": [
    {
     "data": {
      "text/plain": [
       "<matplotlib.legend.Legend at 0x7fa5f34ed310>"
      ]
     },
     "execution_count": 14,
     "metadata": {},
     "output_type": "execute_result"
    },
    {
     "data": {
      "image/png": "[encoded data removed]",
      "text/plain": [
       "<Figure size 432x288 with 1 Axes>"
      ]
     },
     "metadata": {
      "needs_background": "light"
     },
     "output_type": "display_data"
    }
   ],
   "source": [
    "#plotting values \n",
    "max_x = np.max(X) + 50\n",
    "min_x = np.min(X) -10\n",
    "\n",
    "#calculating line values of x and y\n",
    "x = np.linspace(min_x, max_x, 1000)\n",
    "y = b + m * x\n",
    "\n",
    "#plotting line \n",
    "plt.plot(x, y, color='#00ff00', label='Linear Regression')\n",
    "\n",
    "#plot the data point\n",
    "plt.scatter(X, Y, color='#ff0000', label='Data Point')\n",
    "\n",
    "# x-axis label\n",
    "plt.xlabel('Height (cm)')\n",
    "\n",
    "#y-axis label\n",
    "plt.ylabel(' Male WT (kg)')\n",
    "plt.legend()\n"
   ]
  },
  {
   "cell_type": "code",
   "execution_count": 15,
   "metadata": {},
   "outputs": [
    {
     "name": "stdout",
     "output_type": "stream",
     "text": [
      "0.3652304852959355\n"
     ]
    }
   ],
   "source": [
    "# root mean square error \n",
    "'''Root Mean Square Error (RMSE) is the standard deviation of the residuals (prediction errors). Residuals \n",
    "are a measure of how far from the regression line data points are; RMSE is a measure of how spread out these \n",
    "residuals are. In other words, it tells you how concentrated the data is around the line of best fit.\n",
    "'''\n",
    "rmse = 0\n",
    "for i in range(len(X)):\n",
    "    y_pred=  b + m* X[i]\n",
    "    rmse += (Y[i] - y_pred) ** 2\n",
    "    \n",
    "rmse = np.sqrt(rmse/len(X))\n",
    "print(rmse)\n"
   ]
  },
  {
   "cell_type": "code",
   "execution_count": 16,
   "metadata": {},
   "outputs": [
    {
     "name": "stdout",
     "output_type": "stream",
     "text": [
      "0.9997223871063475\n"
     ]
    }
   ],
   "source": [
    "# coeefficient of determination\n",
    "\n",
    "sumofsquares = 0\n",
    "sumofresiduals = 0\n",
    "for i in range(len(X)) :\n",
    "    y_pred = b + m * X[i]\n",
    "    sumofsquares += (Y[i] - mean_y) ** 2\n",
    "    sumofresiduals += (Y[i] - y_pred) **2\n",
    "    \n",
    "score  = 1 - (sumofresiduals/sumofsquares)\n",
    "print(score)\n"
   ]
  },
  {
   "cell_type": "code",
   "execution_count": 17,
   "metadata": {},
   "outputs": [
    {
     "name": "stdout",
     "output_type": "stream",
     "text": [
      "you cann observe that we have got the nice accuracy because we have less data\n"
     ]
    }
   ],
   "source": [
    "print('you cann observe that we have got the nice accuracy because we have less data')"
   ]
  },
  {
   "cell_type": "code",
   "execution_count": null,
   "metadata": {},
   "outputs": [],
   "source": []
  }
 ],
 "metadata": {
  "kernelspec": {
   "display_name": "Python 3",
   "language": "python",
   "name": "python3"
  },
  "language_info": {
   "codemirror_mode": {
    "name": "ipython",
    "version": 3
   },
   "file_extension": ".py",
   "mimetype": "text/x-python",
   "name": "python",
   "nbconvert_exporter": "python",
   "pygments_lexer": "ipython3",
   "version": "3.8.3"
  }
 },
 "nbformat": 4,
 "nbformat_minor": 4
}
